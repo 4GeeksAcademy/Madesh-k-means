{
 "cells": [
  {
   "cell_type": "markdown",
   "metadata": {},
   "source": [
    "# K-means Model for House classifying system using California housing dataset "
   ]
  },
  {
   "cell_type": "markdown",
   "metadata": {},
   "source": [
    "## 1. Import modules "
   ]
  },
  {
   "cell_type": "code",
   "execution_count": 1,
   "metadata": {},
   "outputs": [],
   "source": [
    "import pandas as pd\n",
    "import seaborn as sns\n",
    "import matplotlib.pyplot as plt\n",
    "import plotly.express as px\n",
    "from sklearn.preprocessing import MinMaxScaler\n",
    "from sklearn.model_selection import train_test_split\n",
    "from sklearn.cluster import KMeans\n",
    "from sklearn.ensemble import GradientBoostingClassifier\n",
    "from sklearn.metrics import accuracy_score\n",
    "\n",
    "from utils import cross_val"
   ]
  },
  {
   "cell_type": "markdown",
   "metadata": {},
   "source": [
    "## 2. Data preparation \n",
    "### 2.1 Data Download "
   ]
  },
  {
   "cell_type": "code",
   "execution_count": 2,
   "metadata": {},
   "outputs": [
    {
     "name": "stdout",
     "output_type": "stream",
     "text": [
      "       MedInc  HouseAge  AveRooms  AveBedrms  Population  AveOccup  Latitude  \\\n",
      "0      8.3252      41.0  6.984127   1.023810       322.0  2.555556     37.88   \n",
      "1      8.3014      21.0  6.238137   0.971880      2401.0  2.109842     37.86   \n",
      "2      7.2574      52.0  8.288136   1.073446       496.0  2.802260     37.85   \n",
      "3      5.6431      52.0  5.817352   1.073059       558.0  2.547945     37.85   \n",
      "4      3.8462      52.0  6.281853   1.081081       565.0  2.181467     37.85   \n",
      "...       ...       ...       ...        ...         ...       ...       ...   \n",
      "20635  1.5603      25.0  5.045455   1.133333       845.0  2.560606     39.48   \n",
      "20636  2.5568      18.0  6.114035   1.315789       356.0  3.122807     39.49   \n",
      "20637  1.7000      17.0  5.205543   1.120092      1007.0  2.325635     39.43   \n",
      "20638  1.8672      18.0  5.329513   1.171920       741.0  2.123209     39.43   \n",
      "20639  2.3886      16.0  5.254717   1.162264      1387.0  2.616981     39.37   \n",
      "\n",
      "       Longitude  MedHouseVal  \n",
      "0        -122.23        4.526  \n",
      "1        -122.22        3.585  \n",
      "2        -122.24        3.521  \n",
      "3        -122.25        3.413  \n",
      "4        -122.25        3.422  \n",
      "...          ...          ...  \n",
      "20635    -121.09        0.781  \n",
      "20636    -121.21        0.771  \n",
      "20637    -121.22        0.923  \n",
      "20638    -121.32        0.847  \n",
      "20639    -121.24        0.894  \n",
      "\n",
      "[20640 rows x 9 columns]\n"
     ]
    }
   ],
   "source": [
    "data_df=pd.read_csv('https://raw.githubusercontent.com/4GeeksAcademy/k-means-project-tutorial/main/housing.csv')\n",
    "print(data_df)"
   ]
  },
  {
   "cell_type": "markdown",
   "metadata": {},
   "source": [
    "### 2.2 Data inspection "
   ]
  },
  {
   "cell_type": "code",
   "execution_count": 3,
   "metadata": {},
   "outputs": [
    {
     "name": "stdout",
     "output_type": "stream",
     "text": [
      "<class 'pandas.core.frame.DataFrame'>\n",
      "RangeIndex: 20640 entries, 0 to 20639\n",
      "Data columns (total 9 columns):\n",
      " #   Column       Non-Null Count  Dtype  \n",
      "---  ------       --------------  -----  \n",
      " 0   MedInc       20640 non-null  float64\n",
      " 1   HouseAge     20640 non-null  float64\n",
      " 2   AveRooms     20640 non-null  float64\n",
      " 3   AveBedrms    20640 non-null  float64\n",
      " 4   Population   20640 non-null  float64\n",
      " 5   AveOccup     20640 non-null  float64\n",
      " 6   Latitude     20640 non-null  float64\n",
      " 7   Longitude    20640 non-null  float64\n",
      " 8   MedHouseVal  20640 non-null  float64\n",
      "dtypes: float64(9)\n",
      "memory usage: 1.4 MB\n"
     ]
    }
   ],
   "source": [
    "data_df.info()"
   ]
  },
  {
   "cell_type": "markdown",
   "metadata": {},
   "source": [
    "- All numerical features \n",
    "- Total of 20640 observations \n",
    "- Important features like Median Income, Latitude and Longitude have no missing values! "
   ]
  },
  {
   "cell_type": "code",
   "execution_count": 4,
   "metadata": {},
   "outputs": [
    {
     "data": {
      "application/vnd.microsoft.datawrangler.viewer.v0+json": {
       "columns": [
        {
         "name": "index",
         "rawType": "object",
         "type": "string"
        },
        {
         "name": "MedInc",
         "rawType": "float64",
         "type": "float"
        },
        {
         "name": "HouseAge",
         "rawType": "float64",
         "type": "float"
        },
        {
         "name": "AveRooms",
         "rawType": "float64",
         "type": "float"
        },
        {
         "name": "AveBedrms",
         "rawType": "float64",
         "type": "float"
        },
        {
         "name": "Population",
         "rawType": "float64",
         "type": "float"
        },
        {
         "name": "AveOccup",
         "rawType": "float64",
         "type": "float"
        },
        {
         "name": "Latitude",
         "rawType": "float64",
         "type": "float"
        },
        {
         "name": "Longitude",
         "rawType": "float64",
         "type": "float"
        },
        {
         "name": "MedHouseVal",
         "rawType": "float64",
         "type": "float"
        }
       ],
       "conversionMethod": "pd.DataFrame",
       "ref": "752d4877-1a5f-45e8-ae0b-ceaba8890a2f",
       "rows": [
        [
         "count",
         "20640.0",
         "20640.0",
         "20640.0",
         "20640.0",
         "20640.0",
         "20640.0",
         "20640.0",
         "20640.0",
         "20640.0"
        ],
        [
         "mean",
         "3.8706710029069766",
         "28.639486434108527",
         "5.428999742190376",
         "1.096675149606208",
         "1425.4767441860465",
         "3.0706551594363742",
         "35.63186143410853",
         "-119.56970445736432",
         "2.068558169089147"
        ],
        [
         "std",
         "1.8998217179452688",
         "12.58555761211165",
         "2.4741731394243187",
         "0.473910856795466",
         "1132.462121765341",
         "10.386049562213618",
         "2.1359523974571153",
         "2.0035317235025882",
         "1.1539561587441387"
        ],
        [
         "min",
         "0.4999",
         "1.0",
         "0.8461538461538461",
         "0.3333333333333333",
         "3.0",
         "0.6923076923076923",
         "32.54",
         "-124.35",
         "0.14999"
        ],
        [
         "25%",
         "2.5633999999999997",
         "18.0",
         "4.440716235896959",
         "1.006079046038478",
         "787.0",
         "2.4297411475535755",
         "33.93",
         "-121.8",
         "1.196"
        ],
        [
         "50%",
         "3.5347999999999997",
         "29.0",
         "5.229128787878788",
         "1.048780487804878",
         "1166.0",
         "2.818115654360196",
         "34.26",
         "-118.49",
         "1.797"
        ],
        [
         "75%",
         "4.74325",
         "37.0",
         "6.052380952380951",
         "1.099526066350711",
         "1725.0",
         "3.2822609242736216",
         "37.71",
         "-118.01",
         "2.6472499999999997"
        ],
        [
         "max",
         "15.0001",
         "52.0",
         "141.9090909090909",
         "34.06666666666667",
         "35682.0",
         "1243.3333333333333",
         "41.95",
         "-114.31",
         "5.00001"
        ]
       ],
       "shape": {
        "columns": 9,
        "rows": 8
       }
      },
      "text/html": [
       "<div>\n",
       "<style scoped>\n",
       "    .dataframe tbody tr th:only-of-type {\n",
       "        vertical-align: middle;\n",
       "    }\n",
       "\n",
       "    .dataframe tbody tr th {\n",
       "        vertical-align: top;\n",
       "    }\n",
       "\n",
       "    .dataframe thead th {\n",
       "        text-align: right;\n",
       "    }\n",
       "</style>\n",
       "<table border=\"1\" class=\"dataframe\">\n",
       "  <thead>\n",
       "    <tr style=\"text-align: right;\">\n",
       "      <th></th>\n",
       "      <th>MedInc</th>\n",
       "      <th>HouseAge</th>\n",
       "      <th>AveRooms</th>\n",
       "      <th>AveBedrms</th>\n",
       "      <th>Population</th>\n",
       "      <th>AveOccup</th>\n",
       "      <th>Latitude</th>\n",
       "      <th>Longitude</th>\n",
       "      <th>MedHouseVal</th>\n",
       "    </tr>\n",
       "  </thead>\n",
       "  <tbody>\n",
       "    <tr>\n",
       "      <th>count</th>\n",
       "      <td>20640.000000</td>\n",
       "      <td>20640.000000</td>\n",
       "      <td>20640.000000</td>\n",
       "      <td>20640.000000</td>\n",
       "      <td>20640.000000</td>\n",
       "      <td>20640.000000</td>\n",
       "      <td>20640.000000</td>\n",
       "      <td>20640.000000</td>\n",
       "      <td>20640.000000</td>\n",
       "    </tr>\n",
       "    <tr>\n",
       "      <th>mean</th>\n",
       "      <td>3.870671</td>\n",
       "      <td>28.639486</td>\n",
       "      <td>5.429000</td>\n",
       "      <td>1.096675</td>\n",
       "      <td>1425.476744</td>\n",
       "      <td>3.070655</td>\n",
       "      <td>35.631861</td>\n",
       "      <td>-119.569704</td>\n",
       "      <td>2.068558</td>\n",
       "    </tr>\n",
       "    <tr>\n",
       "      <th>std</th>\n",
       "      <td>1.899822</td>\n",
       "      <td>12.585558</td>\n",
       "      <td>2.474173</td>\n",
       "      <td>0.473911</td>\n",
       "      <td>1132.462122</td>\n",
       "      <td>10.386050</td>\n",
       "      <td>2.135952</td>\n",
       "      <td>2.003532</td>\n",
       "      <td>1.153956</td>\n",
       "    </tr>\n",
       "    <tr>\n",
       "      <th>min</th>\n",
       "      <td>0.499900</td>\n",
       "      <td>1.000000</td>\n",
       "      <td>0.846154</td>\n",
       "      <td>0.333333</td>\n",
       "      <td>3.000000</td>\n",
       "      <td>0.692308</td>\n",
       "      <td>32.540000</td>\n",
       "      <td>-124.350000</td>\n",
       "      <td>0.149990</td>\n",
       "    </tr>\n",
       "    <tr>\n",
       "      <th>25%</th>\n",
       "      <td>2.563400</td>\n",
       "      <td>18.000000</td>\n",
       "      <td>4.440716</td>\n",
       "      <td>1.006079</td>\n",
       "      <td>787.000000</td>\n",
       "      <td>2.429741</td>\n",
       "      <td>33.930000</td>\n",
       "      <td>-121.800000</td>\n",
       "      <td>1.196000</td>\n",
       "    </tr>\n",
       "    <tr>\n",
       "      <th>50%</th>\n",
       "      <td>3.534800</td>\n",
       "      <td>29.000000</td>\n",
       "      <td>5.229129</td>\n",
       "      <td>1.048780</td>\n",
       "      <td>1166.000000</td>\n",
       "      <td>2.818116</td>\n",
       "      <td>34.260000</td>\n",
       "      <td>-118.490000</td>\n",
       "      <td>1.797000</td>\n",
       "    </tr>\n",
       "    <tr>\n",
       "      <th>75%</th>\n",
       "      <td>4.743250</td>\n",
       "      <td>37.000000</td>\n",
       "      <td>6.052381</td>\n",
       "      <td>1.099526</td>\n",
       "      <td>1725.000000</td>\n",
       "      <td>3.282261</td>\n",
       "      <td>37.710000</td>\n",
       "      <td>-118.010000</td>\n",
       "      <td>2.647250</td>\n",
       "    </tr>\n",
       "    <tr>\n",
       "      <th>max</th>\n",
       "      <td>15.000100</td>\n",
       "      <td>52.000000</td>\n",
       "      <td>141.909091</td>\n",
       "      <td>34.066667</td>\n",
       "      <td>35682.000000</td>\n",
       "      <td>1243.333333</td>\n",
       "      <td>41.950000</td>\n",
       "      <td>-114.310000</td>\n",
       "      <td>5.000010</td>\n",
       "    </tr>\n",
       "  </tbody>\n",
       "</table>\n",
       "</div>"
      ],
      "text/plain": [
       "             MedInc      HouseAge      AveRooms     AveBedrms    Population  \\\n",
       "count  20640.000000  20640.000000  20640.000000  20640.000000  20640.000000   \n",
       "mean       3.870671     28.639486      5.429000      1.096675   1425.476744   \n",
       "std        1.899822     12.585558      2.474173      0.473911   1132.462122   \n",
       "min        0.499900      1.000000      0.846154      0.333333      3.000000   \n",
       "25%        2.563400     18.000000      4.440716      1.006079    787.000000   \n",
       "50%        3.534800     29.000000      5.229129      1.048780   1166.000000   \n",
       "75%        4.743250     37.000000      6.052381      1.099526   1725.000000   \n",
       "max       15.000100     52.000000    141.909091     34.066667  35682.000000   \n",
       "\n",
       "           AveOccup      Latitude     Longitude   MedHouseVal  \n",
       "count  20640.000000  20640.000000  20640.000000  20640.000000  \n",
       "mean       3.070655     35.631861   -119.569704      2.068558  \n",
       "std       10.386050      2.135952      2.003532      1.153956  \n",
       "min        0.692308     32.540000   -124.350000      0.149990  \n",
       "25%        2.429741     33.930000   -121.800000      1.196000  \n",
       "50%        2.818116     34.260000   -118.490000      1.797000  \n",
       "75%        3.282261     37.710000   -118.010000      2.647250  \n",
       "max     1243.333333     41.950000   -114.310000      5.000010  "
      ]
     },
     "execution_count": 4,
     "metadata": {},
     "output_type": "execute_result"
    }
   ],
   "source": [
    "data_df.describe()"
   ]
  },
  {
   "cell_type": "code",
   "execution_count": 5,
   "metadata": {},
   "outputs": [
    {
     "data": {
      "application/vnd.microsoft.datawrangler.viewer.v0+json": {
       "columns": [
        {
         "name": "index",
         "rawType": "object",
         "type": "string"
        },
        {
         "name": "0",
         "rawType": "float64",
         "type": "float"
        },
        {
         "name": "1",
         "rawType": "float64",
         "type": "float"
        },
        {
         "name": "2",
         "rawType": "float64",
         "type": "float"
        },
        {
         "name": "3",
         "rawType": "float64",
         "type": "float"
        },
        {
         "name": "4",
         "rawType": "float64",
         "type": "float"
        }
       ],
       "conversionMethod": "pd.DataFrame",
       "ref": "37c262bc-dfdb-4987-b3a3-38002bcf232a",
       "rows": [
        [
         "MedInc",
         "8.3252",
         "8.3014",
         "7.2574",
         "5.6431",
         "3.8462"
        ],
        [
         "HouseAge",
         "41.0",
         "21.0",
         "52.0",
         "52.0",
         "52.0"
        ],
        [
         "AveRooms",
         "6.984126984126984",
         "6.238137082601054",
         "8.288135593220339",
         "5.817351598173516",
         "6.281853281853283"
        ],
        [
         "AveBedrms",
         "1.0238095238095235",
         "0.9718804920913884",
         "1.073446327683616",
         "1.0730593607305936",
         "1.0810810810810811"
        ],
        [
         "Population",
         "322.0",
         "2401.0",
         "496.0",
         "558.0",
         "565.0"
        ],
        [
         "AveOccup",
         "2.555555555555556",
         "2.109841827768014",
         "2.8022598870056497",
         "2.547945205479452",
         "2.1814671814671813"
        ],
        [
         "Latitude",
         "37.88",
         "37.86",
         "37.85",
         "37.85",
         "37.85"
        ],
        [
         "Longitude",
         "-122.23",
         "-122.22",
         "-122.24",
         "-122.25",
         "-122.25"
        ],
        [
         "MedHouseVal",
         "4.526",
         "3.585",
         "3.5210000000000004",
         "3.4130000000000003",
         "3.422"
        ]
       ],
       "shape": {
        "columns": 5,
        "rows": 9
       }
      },
      "text/html": [
       "<div>\n",
       "<style scoped>\n",
       "    .dataframe tbody tr th:only-of-type {\n",
       "        vertical-align: middle;\n",
       "    }\n",
       "\n",
       "    .dataframe tbody tr th {\n",
       "        vertical-align: top;\n",
       "    }\n",
       "\n",
       "    .dataframe thead th {\n",
       "        text-align: right;\n",
       "    }\n",
       "</style>\n",
       "<table border=\"1\" class=\"dataframe\">\n",
       "  <thead>\n",
       "    <tr style=\"text-align: right;\">\n",
       "      <th></th>\n",
       "      <th>0</th>\n",
       "      <th>1</th>\n",
       "      <th>2</th>\n",
       "      <th>3</th>\n",
       "      <th>4</th>\n",
       "    </tr>\n",
       "  </thead>\n",
       "  <tbody>\n",
       "    <tr>\n",
       "      <th>MedInc</th>\n",
       "      <td>8.325200</td>\n",
       "      <td>8.301400</td>\n",
       "      <td>7.257400</td>\n",
       "      <td>5.643100</td>\n",
       "      <td>3.846200</td>\n",
       "    </tr>\n",
       "    <tr>\n",
       "      <th>HouseAge</th>\n",
       "      <td>41.000000</td>\n",
       "      <td>21.000000</td>\n",
       "      <td>52.000000</td>\n",
       "      <td>52.000000</td>\n",
       "      <td>52.000000</td>\n",
       "    </tr>\n",
       "    <tr>\n",
       "      <th>AveRooms</th>\n",
       "      <td>6.984127</td>\n",
       "      <td>6.238137</td>\n",
       "      <td>8.288136</td>\n",
       "      <td>5.817352</td>\n",
       "      <td>6.281853</td>\n",
       "    </tr>\n",
       "    <tr>\n",
       "      <th>AveBedrms</th>\n",
       "      <td>1.023810</td>\n",
       "      <td>0.971880</td>\n",
       "      <td>1.073446</td>\n",
       "      <td>1.073059</td>\n",
       "      <td>1.081081</td>\n",
       "    </tr>\n",
       "    <tr>\n",
       "      <th>Population</th>\n",
       "      <td>322.000000</td>\n",
       "      <td>2401.000000</td>\n",
       "      <td>496.000000</td>\n",
       "      <td>558.000000</td>\n",
       "      <td>565.000000</td>\n",
       "    </tr>\n",
       "    <tr>\n",
       "      <th>AveOccup</th>\n",
       "      <td>2.555556</td>\n",
       "      <td>2.109842</td>\n",
       "      <td>2.802260</td>\n",
       "      <td>2.547945</td>\n",
       "      <td>2.181467</td>\n",
       "    </tr>\n",
       "    <tr>\n",
       "      <th>Latitude</th>\n",
       "      <td>37.880000</td>\n",
       "      <td>37.860000</td>\n",
       "      <td>37.850000</td>\n",
       "      <td>37.850000</td>\n",
       "      <td>37.850000</td>\n",
       "    </tr>\n",
       "    <tr>\n",
       "      <th>Longitude</th>\n",
       "      <td>-122.230000</td>\n",
       "      <td>-122.220000</td>\n",
       "      <td>-122.240000</td>\n",
       "      <td>-122.250000</td>\n",
       "      <td>-122.250000</td>\n",
       "    </tr>\n",
       "    <tr>\n",
       "      <th>MedHouseVal</th>\n",
       "      <td>4.526000</td>\n",
       "      <td>3.585000</td>\n",
       "      <td>3.521000</td>\n",
       "      <td>3.413000</td>\n",
       "      <td>3.422000</td>\n",
       "    </tr>\n",
       "  </tbody>\n",
       "</table>\n",
       "</div>"
      ],
      "text/plain": [
       "                      0            1           2           3           4\n",
       "MedInc         8.325200     8.301400    7.257400    5.643100    3.846200\n",
       "HouseAge      41.000000    21.000000   52.000000   52.000000   52.000000\n",
       "AveRooms       6.984127     6.238137    8.288136    5.817352    6.281853\n",
       "AveBedrms      1.023810     0.971880    1.073446    1.073059    1.081081\n",
       "Population   322.000000  2401.000000  496.000000  558.000000  565.000000\n",
       "AveOccup       2.555556     2.109842    2.802260    2.547945    2.181467\n",
       "Latitude      37.880000    37.860000   37.850000   37.850000   37.850000\n",
       "Longitude   -122.230000  -122.220000 -122.240000 -122.250000 -122.250000\n",
       "MedHouseVal    4.526000     3.585000    3.521000    3.413000    3.422000"
      ]
     },
     "execution_count": 5,
     "metadata": {},
     "output_type": "execute_result"
    }
   ],
   "source": [
    "data_df.head().T"
   ]
  },
  {
   "cell_type": "markdown",
   "metadata": {},
   "source": [
    "### 2.3 Filter only required features "
   ]
  },
  {
   "cell_type": "code",
   "execution_count": 6,
   "metadata": {},
   "outputs": [
    {
     "name": "stdout",
     "output_type": "stream",
     "text": [
      "<class 'pandas.core.frame.DataFrame'>\n",
      "RangeIndex: 20640 entries, 0 to 20639\n",
      "Data columns (total 3 columns):\n",
      " #   Column     Non-Null Count  Dtype  \n",
      "---  ------     --------------  -----  \n",
      " 0   MedInc     20640 non-null  float64\n",
      " 1   Latitude   20640 non-null  float64\n",
      " 2   Longitude  20640 non-null  float64\n",
      "dtypes: float64(3)\n",
      "memory usage: 483.9 KB\n"
     ]
    }
   ],
   "source": [
    "data_df=data_df[['MedInc', 'Latitude', 'Longitude']]\n",
    "data_df.info()"
   ]
  },
  {
   "cell_type": "code",
   "execution_count": 7,
   "metadata": {},
   "outputs": [
    {
     "data": {
      "application/vnd.microsoft.datawrangler.viewer.v0+json": {
       "columns": [
        {
         "name": "index",
         "rawType": "object",
         "type": "string"
        },
        {
         "name": "MedInc",
         "rawType": "float64",
         "type": "float"
        },
        {
         "name": "Latitude",
         "rawType": "float64",
         "type": "float"
        },
        {
         "name": "Longitude",
         "rawType": "float64",
         "type": "float"
        }
       ],
       "conversionMethod": "pd.DataFrame",
       "ref": "4b9c26f8-c141-4d0c-9a7d-0b10b94deb19",
       "rows": [
        [
         "count",
         "20640.0",
         "20640.0",
         "20640.0"
        ],
        [
         "mean",
         "3.8706710029069766",
         "35.63186143410853",
         "-119.56970445736432"
        ],
        [
         "std",
         "1.8998217179452688",
         "2.1359523974571153",
         "2.0035317235025882"
        ],
        [
         "min",
         "0.4999",
         "32.54",
         "-124.35"
        ],
        [
         "25%",
         "2.5633999999999997",
         "33.93",
         "-121.8"
        ],
        [
         "50%",
         "3.5347999999999997",
         "34.26",
         "-118.49"
        ],
        [
         "75%",
         "4.74325",
         "37.71",
         "-118.01"
        ],
        [
         "max",
         "15.0001",
         "41.95",
         "-114.31"
        ]
       ],
       "shape": {
        "columns": 3,
        "rows": 8
       }
      },
      "text/html": [
       "<div>\n",
       "<style scoped>\n",
       "    .dataframe tbody tr th:only-of-type {\n",
       "        vertical-align: middle;\n",
       "    }\n",
       "\n",
       "    .dataframe tbody tr th {\n",
       "        vertical-align: top;\n",
       "    }\n",
       "\n",
       "    .dataframe thead th {\n",
       "        text-align: right;\n",
       "    }\n",
       "</style>\n",
       "<table border=\"1\" class=\"dataframe\">\n",
       "  <thead>\n",
       "    <tr style=\"text-align: right;\">\n",
       "      <th></th>\n",
       "      <th>MedInc</th>\n",
       "      <th>Latitude</th>\n",
       "      <th>Longitude</th>\n",
       "    </tr>\n",
       "  </thead>\n",
       "  <tbody>\n",
       "    <tr>\n",
       "      <th>count</th>\n",
       "      <td>20640.000000</td>\n",
       "      <td>20640.000000</td>\n",
       "      <td>20640.000000</td>\n",
       "    </tr>\n",
       "    <tr>\n",
       "      <th>mean</th>\n",
       "      <td>3.870671</td>\n",
       "      <td>35.631861</td>\n",
       "      <td>-119.569704</td>\n",
       "    </tr>\n",
       "    <tr>\n",
       "      <th>std</th>\n",
       "      <td>1.899822</td>\n",
       "      <td>2.135952</td>\n",
       "      <td>2.003532</td>\n",
       "    </tr>\n",
       "    <tr>\n",
       "      <th>min</th>\n",
       "      <td>0.499900</td>\n",
       "      <td>32.540000</td>\n",
       "      <td>-124.350000</td>\n",
       "    </tr>\n",
       "    <tr>\n",
       "      <th>25%</th>\n",
       "      <td>2.563400</td>\n",
       "      <td>33.930000</td>\n",
       "      <td>-121.800000</td>\n",
       "    </tr>\n",
       "    <tr>\n",
       "      <th>50%</th>\n",
       "      <td>3.534800</td>\n",
       "      <td>34.260000</td>\n",
       "      <td>-118.490000</td>\n",
       "    </tr>\n",
       "    <tr>\n",
       "      <th>75%</th>\n",
       "      <td>4.743250</td>\n",
       "      <td>37.710000</td>\n",
       "      <td>-118.010000</td>\n",
       "    </tr>\n",
       "    <tr>\n",
       "      <th>max</th>\n",
       "      <td>15.000100</td>\n",
       "      <td>41.950000</td>\n",
       "      <td>-114.310000</td>\n",
       "    </tr>\n",
       "  </tbody>\n",
       "</table>\n",
       "</div>"
      ],
      "text/plain": [
       "             MedInc      Latitude     Longitude\n",
       "count  20640.000000  20640.000000  20640.000000\n",
       "mean       3.870671     35.631861   -119.569704\n",
       "std        1.899822      2.135952      2.003532\n",
       "min        0.499900     32.540000   -124.350000\n",
       "25%        2.563400     33.930000   -121.800000\n",
       "50%        3.534800     34.260000   -118.490000\n",
       "75%        4.743250     37.710000   -118.010000\n",
       "max       15.000100     41.950000   -114.310000"
      ]
     },
     "execution_count": 7,
     "metadata": {},
     "output_type": "execute_result"
    }
   ],
   "source": [
    "data_df.describe()"
   ]
  },
  {
   "cell_type": "code",
   "execution_count": 8,
   "metadata": {},
   "outputs": [
    {
     "data": {
      "application/vnd.microsoft.datawrangler.viewer.v0+json": {
       "columns": [
        {
         "name": "index",
         "rawType": "object",
         "type": "string"
        },
        {
         "name": "0",
         "rawType": "float64",
         "type": "float"
        },
        {
         "name": "1",
         "rawType": "float64",
         "type": "float"
        },
        {
         "name": "2",
         "rawType": "float64",
         "type": "float"
        },
        {
         "name": "3",
         "rawType": "float64",
         "type": "float"
        },
        {
         "name": "4",
         "rawType": "float64",
         "type": "float"
        }
       ],
       "conversionMethod": "pd.DataFrame",
       "ref": "0e5e7210-42d6-47c4-84cc-8efd3002f8e4",
       "rows": [
        [
         "MedInc",
         "8.3252",
         "8.3014",
         "7.2574",
         "5.6431",
         "3.8462"
        ],
        [
         "Latitude",
         "37.88",
         "37.86",
         "37.85",
         "37.85",
         "37.85"
        ],
        [
         "Longitude",
         "-122.23",
         "-122.22",
         "-122.24",
         "-122.25",
         "-122.25"
        ]
       ],
       "shape": {
        "columns": 5,
        "rows": 3
       }
      },
      "text/html": [
       "<div>\n",
       "<style scoped>\n",
       "    .dataframe tbody tr th:only-of-type {\n",
       "        vertical-align: middle;\n",
       "    }\n",
       "\n",
       "    .dataframe tbody tr th {\n",
       "        vertical-align: top;\n",
       "    }\n",
       "\n",
       "    .dataframe thead th {\n",
       "        text-align: right;\n",
       "    }\n",
       "</style>\n",
       "<table border=\"1\" class=\"dataframe\">\n",
       "  <thead>\n",
       "    <tr style=\"text-align: right;\">\n",
       "      <th></th>\n",
       "      <th>0</th>\n",
       "      <th>1</th>\n",
       "      <th>2</th>\n",
       "      <th>3</th>\n",
       "      <th>4</th>\n",
       "    </tr>\n",
       "  </thead>\n",
       "  <tbody>\n",
       "    <tr>\n",
       "      <th>MedInc</th>\n",
       "      <td>8.3252</td>\n",
       "      <td>8.3014</td>\n",
       "      <td>7.2574</td>\n",
       "      <td>5.6431</td>\n",
       "      <td>3.8462</td>\n",
       "    </tr>\n",
       "    <tr>\n",
       "      <th>Latitude</th>\n",
       "      <td>37.8800</td>\n",
       "      <td>37.8600</td>\n",
       "      <td>37.8500</td>\n",
       "      <td>37.8500</td>\n",
       "      <td>37.8500</td>\n",
       "    </tr>\n",
       "    <tr>\n",
       "      <th>Longitude</th>\n",
       "      <td>-122.2300</td>\n",
       "      <td>-122.2200</td>\n",
       "      <td>-122.2400</td>\n",
       "      <td>-122.2500</td>\n",
       "      <td>-122.2500</td>\n",
       "    </tr>\n",
       "  </tbody>\n",
       "</table>\n",
       "</div>"
      ],
      "text/plain": [
       "                  0         1         2         3         4\n",
       "MedInc       8.3252    8.3014    7.2574    5.6431    3.8462\n",
       "Latitude    37.8800   37.8600   37.8500   37.8500   37.8500\n",
       "Longitude -122.2300 -122.2200 -122.2400 -122.2500 -122.2500"
      ]
     },
     "execution_count": 8,
     "metadata": {},
     "output_type": "execute_result"
    }
   ],
   "source": [
    "data_df.head().T"
   ]
  },
  {
   "cell_type": "markdown",
   "metadata": {},
   "source": [
    "### 2.4 Test-train split "
   ]
  },
  {
   "cell_type": "code",
   "execution_count": 9,
   "metadata": {},
   "outputs": [
    {
     "name": "stdout",
     "output_type": "stream",
     "text": [
      "<class 'pandas.core.frame.DataFrame'>\n",
      "Index: 16512 entries, 14196 to 15795\n",
      "Data columns (total 3 columns):\n",
      " #   Column     Non-Null Count  Dtype  \n",
      "---  ------     --------------  -----  \n",
      " 0   MedInc     16512 non-null  float64\n",
      " 1   Latitude   16512 non-null  float64\n",
      " 2   Longitude  16512 non-null  float64\n",
      "dtypes: float64(3)\n",
      "memory usage: 516.0 KB\n",
      "<class 'pandas.core.frame.DataFrame'>\n",
      "Index: 4128 entries, 20046 to 3665\n",
      "Data columns (total 3 columns):\n",
      " #   Column     Non-Null Count  Dtype  \n",
      "---  ------     --------------  -----  \n",
      " 0   MedInc     4128 non-null   float64\n",
      " 1   Latitude   4128 non-null   float64\n",
      " 2   Longitude  4128 non-null   float64\n",
      "dtypes: float64(3)\n",
      "memory usage: 129.0 KB\n"
     ]
    }
   ],
   "source": [
    "training_data, testing_data=train_test_split(data_df, test_size=0.2, random_state=42)\n",
    "training_data.info()\n",
    "testing_data.info()"
   ]
  },
  {
   "cell_type": "markdown",
   "metadata": {},
   "source": [
    "## 3. EDA \n",
    "### 3.1 Handle any missing and extreme values "
   ]
  },
  {
   "cell_type": "code",
   "execution_count": 16,
   "metadata": {},
   "outputs": [
    {
     "data": {
      "image/png": "[encoded data removed]",
      "text/plain": [
       "<Figure size 1000x300 with 3 Axes>"
      ]
     },
     "metadata": {},
     "output_type": "display_data"
    }
   ],
   "source": [
    "fig, axs=plt.subplots(1, 3, figsize=(10, 3), sharey=True)\n",
    "\n",
    "fig.suptitle('California housing data showing training set', fontsize=15, fontweight='bold')\n",
    "\n",
    "axs[0].set_ylabel('Count', fontweight='bold')\n",
    "axs[0].set_title('Latitude', fontweight='bold')\n",
    "axs[0].hist(training_data['Latitude'], color='red')\n",
    "axs[0].set_xlabel('Latitude', fontweight='bold')\n",
    "\n",
    "axs[1].hist(training_data['Longitude'], color='green')\n",
    "axs[1].set_title('Longitude', fontweight='bold')\n",
    "axs[1].set_xlabel('Longitude', fontweight='bold')\n",
    "\n",
    "axs[2].hist(training_data['MedInc'], color='blue')\n",
    "axs[2].set_title('Median Income', fontweight='bold')\n",
    "axs[2].set_xlabel('log10(median income)', fontweight='bold')\n",
    "\n",
    "plt.tight_layout()\n",
    "plt.show()"
   ]
  },
  {
   "cell_type": "markdown",
   "metadata": {},
   "source": [
    "### 3.2 Feature scaling "
   ]
  },
  {
   "cell_type": "code",
   "execution_count": 17,
   "metadata": {},
   "outputs": [],
   "source": [
    "scaler=MinMaxScaler()\n",
    "scaler.fit(training_data)\n",
    "\n",
    "scaled_training_data=scaler.transform(training_data)\n",
    "scaled_training_data=pd.DataFrame(scaled_training_data, columns=training_data.columns)\n",
    "\n",
    "scaled_testing_data=scaler.transform(testing_data)\n",
    "scaled_testing_data=pd.DataFrame(scaled_testing_data, columns=testing_data.columns)"
   ]
  },
  {
   "cell_type": "code",
   "execution_count": 18,
   "metadata": {},
   "outputs": [
    {
     "data": {
      "image/png": "[encoded data removed]",
      "text/plain": [
       "<Figure size 1000x300 with 3 Axes>"
      ]
     },
     "metadata": {},
     "output_type": "display_data"
    }
   ],
   "source": [
    "fig, axs=plt.subplots(1, 3, figsize=(10, 3), sharey=True)\n",
    "\n",
    "fig.suptitle('California housing data showing scaled training set', fontsize=15, fontweight='bold')\n",
    "\n",
    "axs[0].set_ylabel('Count', fontweight='bold')\n",
    "axs[0].set_title('Latitude', fontweight='bold')\n",
    "axs[0].hist(scaled_training_data['Latitude'], color='red')\n",
    "axs[0].set_xlabel('Latitude', fontweight='bold')\n",
    "\n",
    "axs[1].hist(scaled_training_data['Longitude'], color='green')\n",
    "axs[1].set_title('Longitude', fontweight='bold')\n",
    "axs[1].set_xlabel('Longitude', fontweight='bold')\n",
    "\n",
    "axs[2].hist(scaled_training_data['MedInc'], color='blue')\n",
    "axs[2].set_title('Median Income', fontweight='bold')\n",
    "axs[2].set_xlabel('log10(median income)', fontweight='bold')\n",
    "\n",
    "plt.tight_layout()\n",
    "plt.show()"
   ]
  }
 ],
 "metadata": {
  "kernelspec": {
   "display_name": "Python 3",
   "language": "python",
   "name": "python3"
  },
  "language_info": {
   "codemirror_mode": {
    "name": "ipython",
    "version": 3
   },
   "file_extension": ".py",
   "mimetype": "text/x-python",
   "name": "python",
   "nbconvert_exporter": "python",
   "pygments_lexer": "ipython3",
   "version": "3.11.4"
  }
 },
 "nbformat": 4,
 "nbformat_minor": 2
}
